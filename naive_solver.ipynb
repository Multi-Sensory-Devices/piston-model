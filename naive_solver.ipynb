{
 "cells": [
  {
   "cell_type": "code",
   "execution_count": null,
   "metadata": {},
   "outputs": [],
   "source": [
    "import sys\n",
    "import math as math\n",
    "import numpy as np"
   ]
  },
  {
   "cell_type": "code",
   "execution_count": null,
   "metadata": {},
   "outputs": [],
   "source": [
    "\n",
    "rho_a = 1.184                           # density of air at 25°C (kg/m3) \n",
    "c = 346.13                              # speed of sound in air at 25°C (m/s)\n",
    "f = 40000                               # frequency (Hz)\n",
    "\n",
    "_lambda = lambda f: c/f                 # wavelength (m)\n",
    "\n",
    "_k = lambda f: 2 * math.pi/_lambda(f)     # wavenumber \n",
    "\n",
    "# Euclidean distance, 2-norm or magnitude of the vector, sqrt of the inner product of a vector with itself \n",
    "_distance = lambda pz, pt: math.sqrt( (pz[0]-pt[0])**2 + (pz[1]-pt[1])**2 + (pz[2]-pt[2])**2 )  \n",
    "\n",
    "# cross product of pz and pt over the distance between pz\n",
    "_sin_theta = lambda pz, pt: math.sqrt( (pz[0]-pt[0])**2 + (pz[1]-pt[1])**2 ) / _distance(pz, pt)  \n",
    "\n",
    "def directivity(sin_theta, k, r=4.5/1000):\n",
    "\n",
    "    # argument of 1st order Bessel function\n",
    "    bessel_J1 = k*r*sin_theta\n",
    "    \n",
    "    # taylor expansion of first order Bessel function over its agrument — J_1(bessel_J1)/bessel_J1\n",
    "    # wolframalpha.com – Series[BesselJ[1,x]/x,{x,0,10}] \n",
    "    taylor_exp = (1/2)-(bessel_J1**2/16)+(bessel_J1**4/384)-(bessel_J1**6/18432)+(bessel_J1**8/1474560)-(bessel_J1**10/176947200)+(bessel_J1**12/29727129600) \n",
    "    \n",
    "    return 2 * taylor_exp\n",
    "\n",
    "\n",
    "def reference_pressure(A=0.17, V=20): \n",
    "    \"\"\"\n",
    "    A — emitter output efficiency (Pa/m*V) \n",
    "    V — excitation signal peak-to-peak amplitude (Vpp)  \n",
    "    \"\"\"\n",
    "    return A * V    \n",
    "\n",
    "def backpropagation(p_ref, distance, sin_theta, k, r ):\n",
    "    return p_ref * 1/distance * directivity(sin_theta, k, r) * np.exp(1j*k*distance)"
   ]
  }
 ],
 "metadata": {
  "kernelspec": {
   "display_name": "py10",
   "language": "python",
   "name": "python3"
  },
  "language_info": {
   "name": "python",
   "version": "3.10.9"
  },
  "orig_nbformat": 4
 },
 "nbformat": 4,
 "nbformat_minor": 2
}
